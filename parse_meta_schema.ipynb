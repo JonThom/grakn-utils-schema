{
 "cells": [
  {
   "cell_type": "markdown",
   "metadata": {},
   "source": [
    "# Compile graql schema from graql data source"
   ]
  },
  {
   "cell_type": "markdown",
   "metadata": {},
   "source": [
    "## setup"
   ]
  },
  {
   "cell_type": "markdown",
   "metadata": {},
   "source": [
    "### constants"
   ]
  },
  {
   "cell_type": "code",
   "execution_count": 18,
   "metadata": {},
   "outputs": [],
   "source": [
    "dir_out = \"/Users/rkm916/Sync/projects/2019-02-knowledgebase/src/src_gql/\"\n",
    "filename_out = \"schema_upper_bfo_compiled.gql\""
   ]
  },
  {
   "cell_type": "markdown",
   "metadata": {},
   "source": [
    "### modules"
   ]
  },
  {
   "cell_type": "code",
   "execution_count": 19,
   "metadata": {},
   "outputs": [],
   "source": [
    "from grakn.client import GraknClient\n",
    "import datetime"
   ]
  },
  {
   "cell_type": "markdown",
   "metadata": {},
   "source": [
    "### In terminal"
   ]
  },
  {
   "cell_type": "markdown",
   "metadata": {},
   "source": [
    "#### start grakn"
   ]
  },
  {
   "cell_type": "markdown",
   "metadata": {},
   "source": [
    "grakn server start"
   ]
  },
  {
   "cell_type": "markdown",
   "metadata": {},
   "source": [
    "#### load the meta schema"
   ]
  },
  {
   "cell_type": "markdown",
   "metadata": {},
   "source": [
    "grakn console --keyspace meta --file /Users/rkm916/Sync/projects/2019-02-knowledgebase/src/src_gql/schema_meta.gql "
   ]
  },
  {
   "cell_type": "markdown",
   "metadata": {},
   "source": [
    "#### load the schema to be parsed from instance 'meta' form to class form"
   ]
  },
  {
   "cell_type": "markdown",
   "metadata": {},
   "source": [
    "grakn console --keyspace meta --file /Users/rkm916/Sync/projects/2019-02-knowledgebase/src/src_gql/schema_upper_BFO_meta.gql"
   ]
  },
  {
   "cell_type": "code",
   "execution_count": 42,
   "metadata": {},
   "outputs": [],
   "source": [
    "list_define_block = [] # this is the list of statements that will define classes in the schema"
   ]
  },
  {
   "cell_type": "markdown",
   "metadata": {},
   "source": [
    "### open client to grakn server"
   ]
  },
  {
   "cell_type": "code",
   "execution_count": 43,
   "metadata": {},
   "outputs": [],
   "source": [
    "# NB: we need to remember to close the client when done\n",
    "client = GraknClient(uri=\"localhost:48555\")"
   ]
  },
  {
   "cell_type": "markdown",
   "metadata": {},
   "source": [
    "### load meta keyspace"
   ]
  },
  {
   "cell_type": "code",
   "execution_count": 45,
   "metadata": {},
   "outputs": [
    {
     "data": {
      "text/plain": [
       "['meta', 'grakn', 'bfo']"
      ]
     },
     "execution_count": 45,
     "metadata": {},
     "output_type": "execute_result"
    }
   ],
   "source": [
    "client.keyspaces().retrieve()"
   ]
  },
  {
   "cell_type": "code",
   "execution_count": 52,
   "metadata": {},
   "outputs": [],
   "source": [
    "sessionMeta = client.session(keyspace=\"meta\") "
   ]
  },
  {
   "cell_type": "markdown",
   "metadata": {},
   "source": [
    "### add entity, relation and attribute classes"
   ]
  },
  {
   "cell_type": "code",
   "execution_count": 53,
   "metadata": {},
   "outputs": [],
   "source": [
    "# https://dev.grakn.ai/docs/client-api/python#api-reference\n",
    "\n",
    "    ## session is open\n",
    "with sessionMeta.transaction().read() as read_transaction:\n",
    "    \n",
    "    for match_type in (\"type-entity\", \"type-relation\", \"type-attribute\"):\n",
    "        query_things = \"match $x isa {0}, has name $n; get $n; limit 9999;\".format(match_type) #https://docs.python.org/3/library/string.html\n",
    "\n",
    "        infer = True\n",
    "\n",
    "        answer_iterator_things = read_transaction.query(query=query_things, infer=infer) # returns an iterater of answer\n",
    "\n",
    "        answers_things = answer_iterator_things.collect_concepts() # convert the iterator into a list of Concepts - in this case, Things\n",
    "\n",
    "        # iterate over things, each corresponding to a class we want to define\n",
    "\n",
    "        for answer in answers_things:\n",
    "\n",
    "            name = answer.value()\n",
    "\n",
    "            if match_type == \"type-relation\":\n",
    "\n",
    "                # retrieve the roles that this relation relates\n",
    "\n",
    "                query_roles_related = \"match $rp (playing-role: $pr, is-relation: $ir) isa roleplaying; $ir has name '{!s}'; $rp has name $n; get $n;\".format(name)\n",
    "\n",
    "                #print(query_roles)\n",
    "\n",
    "                answer_iterator_roles_related = read_transaction.query(query=query_roles_related, infer=infer) # returns an iterator of type-relation entity-type things\n",
    "\n",
    "                answers_roles_related = answer_iterator_roles_related.collect_concepts() # convert the iterator into a list of Concepts - in this case, Things\n",
    "\n",
    "                roles_related = [answer.value() for answer in answers_roles_related]\n",
    "\n",
    "            # retrieve the roleplaying relations where this thing plays the role 'plays-role'\n",
    "\n",
    "            query_roles_played = \"match $rp (playing-role: $pr, is-relation: $ir) isa roleplaying; $pr has name '{!s}'; $rp has name $n; get $n;\".format(name)\n",
    "\n",
    "            #print(query_roles)\n",
    "\n",
    "            answer_iterator_roles_played = read_transaction.query(query=query_roles_played, infer=infer) # returns an iterator of type-relation entity-type things\n",
    "\n",
    "            answers_roles_played = answer_iterator_roles_played.collect_concepts() # convert the iterator into a list of Concepts - in this case, Things\n",
    "\n",
    "            roles_played = [answer.value() for answer in answers_roles_played]\n",
    "\n",
    "            # print(roles)\n",
    "\n",
    "            if match_type in (\"type-entity\", \"type-relation\"):\n",
    "                # in a similar manner retrieve the attributes\n",
    "\n",
    "                query_attrs = \"match $havingattr (has-attribute: $has-a, is-attribute-of: $iao) isa having-attribute; $has-a has name '{!s}'; $havingattr has name $n; get $n;\".format(name)\n",
    "\n",
    "                #print(query_attrs)\n",
    "\n",
    "                answer_iterator_attrs = read_transaction.query(query=query_attrs, infer=infer) # returns an iterator of type-attribute entity-type things\n",
    "\n",
    "                answers_attrs = answer_iterator_attrs.collect_concepts() # convert the iterator into a list of Concepts - in this case, Things\n",
    "\n",
    "                attributes = [answer.value() for answer in answers_attrs]\n",
    "\n",
    "                # print(attributes) # we expect this to be empty for bfo..\n",
    "\n",
    "            elif match_type == \"type-attribute\":\n",
    "\n",
    "                # get the attr-datatype value\n",
    "\n",
    "                query_datatype = \"match $attr isa attribute, has name '{!s}', has attr-datatype $dt;\".format(name)\n",
    "\n",
    "                answer_iterator_datatype = read_transaction.query(query=query_datatype, infer=infer) # returns an iterator of type-attribute entity-type things\n",
    "\n",
    "                answer_datatype = nswer_iterator_datatype.collect_concepts()\n",
    "\n",
    "                datatype = answers_datatype[0].value()\n",
    "\n",
    "            # in a similar manner find out if the class has any parents\n",
    "\n",
    "            query_parentship = \"match $ps (parent: $p, child: $c) isa parentship; $c has name '{!s}'; $p has name $n; get $n;\".format(name)\n",
    "\n",
    "            answer_iterator_parentship = read_transaction.query(query=query_parentship, infer=infer)\n",
    "\n",
    "            answers_parentship = answer_iterator_parentship.collect_concepts() # convert the iterator into a list of Concepts - in this case, Things\n",
    "\n",
    "            if len(answers_parentship) == 1:\n",
    "                parent = answers_parentship[0].value()\n",
    "            elif len(answers_parentship) == 0:\n",
    "                parent = match_type.split(\"-\")[1]\n",
    "\n",
    "            # print(parent) # we expect this to be empty for bfo..\n",
    "\n",
    "            # Finally retrieve abstract status\n",
    "\n",
    "            query_isabstr =  \"match $x isa {0}, has name '{1}', has isabstract $ia; get $ia;\".format(match_type,name)\n",
    "\n",
    "\n",
    "            answer_iterator_isabstr = read_transaction.query(query=query_isabstr, infer=infer)\n",
    "\n",
    "            answers_isabstr = answer_iterator_isabstr.collect_concepts() # convert the iterator into a list of Concepts - in this case, Things\n",
    "\n",
    "            isabstract = answers_isabstr[0].value()\n",
    "\n",
    "            # print(isabstract)\n",
    "\n",
    "            # Write to the schema file\n",
    "\n",
    "            define_block = '\\n{0} sub {1}'.format(name, parent)\n",
    "\n",
    "            if match_type == \"type-relation\":\n",
    "                for role in roles_related:\n",
    "                    define_block = \"{0},\\n    relates {1}\".format(define_block, role)\n",
    "\n",
    "            if match_type == \"type-attribute\":\n",
    "                define_block = \"{0},\\n    datatype {1}\".format(define_block, datatype)\n",
    "\n",
    "            for role in roles_played:\n",
    "                define_block = \"{0},\\n    plays {1}\".format(define_block, role)\n",
    "\n",
    "            for attributes in attributes:\n",
    "                define_block = \"{0},\\n    has {1}\".format(define_block, attribute)\n",
    "\n",
    "            if isabstract:\n",
    "                define_block = \"{0},\\n    abstract\".format(define_block)\n",
    "\n",
    "            define_block = \"{0};\\n\".format(define_block)\n",
    "\n",
    "            list_define_block.append(define_block)"
   ]
  },
  {
   "cell_type": "markdown",
   "metadata": {},
   "source": [
    "Iterate over rules:"
   ]
  },
  {
   "cell_type": "code",
   "execution_count": 48,
   "metadata": {},
   "outputs": [],
   "source": [
    "# https://dev.grakn.ai/docs/client-api/python#api-reference\n",
    "# TODO\n"
   ]
  },
  {
   "cell_type": "markdown",
   "metadata": {},
   "source": [
    "## wrap up"
   ]
  },
  {
   "cell_type": "code",
   "execution_count": 54,
   "metadata": {},
   "outputs": [],
   "source": [
    "sessionMeta.close()"
   ]
  },
  {
   "cell_type": "code",
   "execution_count": 55,
   "metadata": {},
   "outputs": [],
   "source": [
    "client.keyspaces().delete(\"meta\") # wipe the keyspace i.e. instances of the ontology"
   ]
  },
  {
   "cell_type": "code",
   "execution_count": 56,
   "metadata": {},
   "outputs": [],
   "source": [
    "client.close()"
   ]
  },
  {
   "cell_type": "markdown",
   "metadata": {},
   "source": [
    "## write out new schema to .gql file"
   ]
  },
  {
   "cell_type": "code",
   "execution_count": 57,
   "metadata": {},
   "outputs": [],
   "source": [
    "with open(\"{0}{1}\".format(dir_out, filename_out), 'w') as f:\n",
    "    f.write(\"# compiled {0}\\n\".format(datetime.datetime.now()))\n",
    "    f.write(\"\\n\")\n",
    "    f.write(\"define\\n\")\n",
    "    for define_block in list_define_block:\n",
    "        f.write(define_block)"
   ]
  },
  {
   "cell_type": "code",
   "execution_count": null,
   "metadata": {},
   "outputs": [],
   "source": []
  }
 ],
 "metadata": {
  "kernelspec": {
   "display_name": "grakn",
   "language": "python",
   "name": "grakn"
  },
  "language_info": {
   "codemirror_mode": {
    "name": "ipython",
    "version": 3
   },
   "file_extension": ".py",
   "mimetype": "text/x-python",
   "name": "python",
   "nbconvert_exporter": "python",
   "pygments_lexer": "ipython3",
   "version": "3.6.8"
  }
 },
 "nbformat": 4,
 "nbformat_minor": 4
}
